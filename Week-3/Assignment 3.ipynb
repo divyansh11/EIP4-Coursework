{
  "nbformat": 4,
  "nbformat_minor": 0,
  "metadata": {
    "colab": {
      "name": "Copy of Assignment 6.ipynb",
      "provenance": [],
      "include_colab_link": true
    },
    "kernelspec": {
      "name": "python3",
      "display_name": "Python 3"
    },
    "accelerator": "GPU"
  },
  "cells": [
    {
      "cell_type": "markdown",
      "metadata": {
        "id": "view-in-github",
        "colab_type": "text"
      },
      "source": [
        "<a href=\"https://colab.research.google.com/github/divyanshbajpai/EIP4-Coursework/blob/master/Week-3/Assignment%203.ipynb\" target=\"_parent\"><img src=\"https://colab.research.google.com/assets/colab-badge.svg\" alt=\"Open In Colab\"/></a>"
      ]
    },
    {
      "cell_type": "code",
      "metadata": {
        "id": "KkwXnw9OfHZl",
        "colab_type": "code",
        "colab": {}
      },
      "source": [
        "from keras import backend as K\n",
        "import time\n",
        "import matplotlib.pyplot as plt\n",
        "import numpy as np\n",
        "% matplotlib inline\n",
        "np.random.seed(2017) \n",
        "from keras.models import Sequential\n",
        "from keras.layers.convolutional import Convolution2D, MaxPooling2D, SeparableConv2D \n",
        "from keras.layers import Activation, Flatten, Dense, Dropout, GlobalAveragePooling2D\n",
        "from keras.layers.normalization import BatchNormalization\n",
        "from keras.utils import np_utils"
      ],
      "execution_count": 0,
      "outputs": []
    },
    {
      "cell_type": "code",
      "metadata": {
        "id": "NHpnoCHZfO8g",
        "colab_type": "code",
        "outputId": "c39b9037-177f-4185-969f-894ce1c5867f",
        "colab": {
          "base_uri": "https://localhost:8080/",
          "height": 52
        }
      },
      "source": [
        "from keras.datasets import cifar10\n",
        "(train_features, train_labels), (test_features, test_labels) = cifar10.load_data()\n",
        "num_train, img_channels, img_rows, img_cols =  train_features.shape\n",
        "num_test, _, _, _ =  test_features.shape\n",
        "num_classes = len(np.unique(train_labels))"
      ],
      "execution_count": 0,
      "outputs": [
        {
          "output_type": "stream",
          "text": [
            "Downloading data from https://www.cs.toronto.edu/~kriz/cifar-10-python.tar.gz\n",
            "170500096/170498071 [==============================] - 11s 0us/step\n"
          ],
          "name": "stdout"
        }
      ]
    },
    {
      "cell_type": "code",
      "metadata": {
        "id": "14HyBUXdfS6G",
        "colab_type": "code",
        "outputId": "9ab7f1b0-8291-41ed-c40d-06a51b2ccc99",
        "colab": {
          "base_uri": "https://localhost:8080/",
          "height": 416
        }
      },
      "source": [
        "class_names = ['airplane','automobile','bird','cat','deer',\n",
        "               'dog','frog','horse','ship','truck']\n",
        "fig = plt.figure(figsize=(8,3))\n",
        "for i in range(num_classes):\n",
        "    ax = fig.add_subplot(2, 5, 1 + i, xticks=[], yticks=[])\n",
        "    idx = np.where(train_labels[:]==i)[0]\n",
        "    features_idx = train_features[idx,::]\n",
        "    img_num = np.random.randint(features_idx.shape[0])\n",
        "    im = features_idx[img_num]\n",
        "    ax.set_title(class_names[i])\n",
        "    plt.imshow(im)\n",
        "plt.show()"
      ],
      "execution_count": 115,
      "outputs": [
        {
          "output_type": "error",
          "ename": "ValueError",
          "evalue": "ignored",
          "traceback": [
            "\u001b[0;31m---------------------------------------------------------------------------\u001b[0m",
            "\u001b[0;31mValueError\u001b[0m                                Traceback (most recent call last)",
            "\u001b[0;32m<ipython-input-115-eccd606d7d1f>\u001b[0m in \u001b[0;36m<module>\u001b[0;34m()\u001b[0m\n\u001b[1;32m      6\u001b[0m     \u001b[0midx\u001b[0m \u001b[0;34m=\u001b[0m \u001b[0mnp\u001b[0m\u001b[0;34m.\u001b[0m\u001b[0mwhere\u001b[0m\u001b[0;34m(\u001b[0m\u001b[0mtrain_labels\u001b[0m\u001b[0;34m[\u001b[0m\u001b[0;34m:\u001b[0m\u001b[0;34m]\u001b[0m\u001b[0;34m==\u001b[0m\u001b[0mi\u001b[0m\u001b[0;34m)\u001b[0m\u001b[0;34m[\u001b[0m\u001b[0;36m0\u001b[0m\u001b[0;34m]\u001b[0m\u001b[0;34m\u001b[0m\u001b[0;34m\u001b[0m\u001b[0m\n\u001b[1;32m      7\u001b[0m     \u001b[0mfeatures_idx\u001b[0m \u001b[0;34m=\u001b[0m \u001b[0mtrain_features\u001b[0m\u001b[0;34m[\u001b[0m\u001b[0midx\u001b[0m\u001b[0;34m,\u001b[0m\u001b[0;34m:\u001b[0m\u001b[0;34m:\u001b[0m\u001b[0;34m]\u001b[0m\u001b[0;34m\u001b[0m\u001b[0;34m\u001b[0m\u001b[0m\n\u001b[0;32m----> 8\u001b[0;31m     \u001b[0mimg_num\u001b[0m \u001b[0;34m=\u001b[0m \u001b[0mnp\u001b[0m\u001b[0;34m.\u001b[0m\u001b[0mrandom\u001b[0m\u001b[0;34m.\u001b[0m\u001b[0mrandint\u001b[0m\u001b[0;34m(\u001b[0m\u001b[0mfeatures_idx\u001b[0m\u001b[0;34m.\u001b[0m\u001b[0mshape\u001b[0m\u001b[0;34m[\u001b[0m\u001b[0;36m0\u001b[0m\u001b[0;34m]\u001b[0m\u001b[0;34m)\u001b[0m\u001b[0;34m\u001b[0m\u001b[0;34m\u001b[0m\u001b[0m\n\u001b[0m\u001b[1;32m      9\u001b[0m     \u001b[0mim\u001b[0m \u001b[0;34m=\u001b[0m \u001b[0mfeatures_idx\u001b[0m\u001b[0;34m[\u001b[0m\u001b[0mimg_num\u001b[0m\u001b[0;34m]\u001b[0m\u001b[0;34m\u001b[0m\u001b[0;34m\u001b[0m\u001b[0m\n\u001b[1;32m     10\u001b[0m     \u001b[0max\u001b[0m\u001b[0;34m.\u001b[0m\u001b[0mset_title\u001b[0m\u001b[0;34m(\u001b[0m\u001b[0mclass_names\u001b[0m\u001b[0;34m[\u001b[0m\u001b[0mi\u001b[0m\u001b[0;34m]\u001b[0m\u001b[0;34m)\u001b[0m\u001b[0;34m\u001b[0m\u001b[0;34m\u001b[0m\u001b[0m\n",
            "\u001b[0;32mmtrand.pyx\u001b[0m in \u001b[0;36mnumpy.random.mtrand.RandomState.randint\u001b[0;34m()\u001b[0m\n",
            "\u001b[0;32mbounded_integers.pyx\u001b[0m in \u001b[0;36mnumpy.random.bounded_integers._rand_int64\u001b[0;34m()\u001b[0m\n",
            "\u001b[0;31mValueError\u001b[0m: low >= high"
          ]
        },
        {
          "output_type": "display_data",
          "data": {
            "image/png": "[encoded data removed]",
            "text/plain": [
              "<Figure size 576x216 with 3 Axes>"
            ]
          },
          "metadata": {
            "tags": []
          }
        }
      ]
    },
    {
      "cell_type": "code",
      "metadata": {
        "id": "bmfsk76-fadV",
        "colab_type": "code",
        "colab": {}
      },
      "source": [
        "def plot_model_history(model_history):\n",
        "    fig, axs = plt.subplots(1,2,figsize=(15,5))\n",
        "    # summarize history for accuracy\n",
        "    axs[0].plot(range(1,len(model_history.history['acc'])+1),model_history.history['acc'])\n",
        "    axs[0].plot(range(1,len(model_history.history['val_acc'])+1),model_history.history['val_acc'])\n",
        "    axs[0].set_title('Model Accuracy')\n",
        "    axs[0].set_ylabel('Accuracy')\n",
        "    axs[0].set_xlabel('Epoch')\n",
        "    axs[0].set_xticks(np.arange(1,len(model_history.history['acc'])+1),len(model_history.history['acc'])/10)\n",
        "    axs[0].legend(['train', 'val'], loc='best')\n",
        "    # summarize history for loss\n",
        "    axs[1].plot(range(1,len(model_history.history['loss'])+1),model_history.history['loss'])\n",
        "    axs[1].plot(range(1,len(model_history.history['val_loss'])+1),model_history.history['val_loss'])\n",
        "    axs[1].set_title('Model Loss')\n",
        "    axs[1].set_ylabel('Loss')\n",
        "    axs[1].set_xlabel('Epoch')\n",
        "    axs[1].set_xticks(np.arange(1,len(model_history.history['loss'])+1),len(model_history.history['loss'])/10)\n",
        "    axs[1].legend(['train', 'val'], loc='best')\n",
        "    plt.show()"
      ],
      "execution_count": 0,
      "outputs": []
    },
    {
      "cell_type": "code",
      "metadata": {
        "id": "YJMT4rjgfdZz",
        "colab_type": "code",
        "colab": {}
      },
      "source": [
        "def accuracy(test_x, test_y, model):\n",
        "    result = model.predict(test_x)\n",
        "    predicted_class = np.argmax(result, axis=1)\n",
        "    true_class = np.argmax(test_y, axis=1)\n",
        "    num_correct = np.sum(predicted_class == true_class) \n",
        "    accuracy = float(num_correct)/result.shape[0]\n",
        "    return (accuracy * 100)"
      ],
      "execution_count": 0,
      "outputs": []
    },
    {
      "cell_type": "code",
      "metadata": {
        "id": "T5c5nDvxm6zR",
        "colab_type": "code",
        "colab": {}
      },
      "source": [
        "train_features = train_features.astype('float32')/255\n",
        "test_features = test_features.astype('float32')/255\n",
        "# convert class labels to binary class labels\n",
        "train_labels = np_utils.to_categorical(train_labels, num_classes)\n",
        "test_labels = np_utils.to_categorical(test_labels, num_classes)"
      ],
      "execution_count": 0,
      "outputs": []
    },
    {
      "cell_type": "code",
      "metadata": {
        "id": "cSOb2lkJfhVq",
        "colab_type": "code",
        "outputId": "e593a74b-27af-4ea5-cbda-79ff6f10c0be",
        "colab": {
          "base_uri": "https://localhost:8080/",
          "height": 547
        }
      },
      "source": [
        "# Define the model\n",
        "model = Sequential()\n",
        "model.add(Convolution2D(48, 3, 3, border_mode='same', input_shape=(32, 32, 3)))\n",
        "model.add(Activation('relu'))\n",
        "model.add(Convolution2D(48, 3, 3))\n",
        "model.add(Activation('relu'))\n",
        "model.add(MaxPooling2D(pool_size=(2, 2)))\n",
        "model.add(Dropout(0.25))\n",
        "model.add(Convolution2D(96, 3, 3, border_mode='same'))\n",
        "model.add(Activation('relu'))\n",
        "model.add(Convolution2D(96, 3, 3))\n",
        "model.add(Activation('relu'))\n",
        "model.add(MaxPooling2D(pool_size=(2, 2)))\n",
        "model.add(Dropout(0.25))\n",
        "model.add(Convolution2D(192, 3, 3, border_mode='same'))\n",
        "model.add(Activation('relu'))\n",
        "model.add(Convolution2D(192, 3, 3))\n",
        "model.add(Activation('relu'))\n",
        "model.add(MaxPooling2D(pool_size=(2, 2)))\n",
        "model.add(Dropout(0.25))\n",
        "model.add(Flatten())\n",
        "model.add(Dense(512))\n",
        "model.add(Activation('relu'))\n",
        "model.add(Dropout(0.5))\n",
        "model.add(Dense(256))\n",
        "model.add(Activation('relu'))\n",
        "model.add(Dropout(0.5))\n",
        "model.add(Dense(num_classes, activation='softmax'))\n",
        "# Compile the model\n",
        "model.compile(optimizer='adam', loss='categorical_crossentropy', metrics=['accuracy'])\n"
      ],
      "execution_count": 0,
      "outputs": [
        {
          "output_type": "stream",
          "text": [
            "WARNING:tensorflow:From /usr/local/lib/python3.6/dist-packages/keras/backend/tensorflow_backend.py:66: The name tf.get_default_graph is deprecated. Please use tf.compat.v1.get_default_graph instead.\n",
            "\n",
            "WARNING:tensorflow:From /usr/local/lib/python3.6/dist-packages/keras/backend/tensorflow_backend.py:541: The name tf.placeholder is deprecated. Please use tf.compat.v1.placeholder instead.\n",
            "\n",
            "WARNING:tensorflow:From /usr/local/lib/python3.6/dist-packages/keras/backend/tensorflow_backend.py:4432: The name tf.random_uniform is deprecated. Please use tf.random.uniform instead.\n",
            "\n",
            "WARNING:tensorflow:From /usr/local/lib/python3.6/dist-packages/keras/backend/tensorflow_backend.py:4267: The name tf.nn.max_pool is deprecated. Please use tf.nn.max_pool2d instead.\n",
            "\n",
            "WARNING:tensorflow:From /usr/local/lib/python3.6/dist-packages/keras/backend/tensorflow_backend.py:148: The name tf.placeholder_with_default is deprecated. Please use tf.compat.v1.placeholder_with_default instead.\n",
            "\n",
            "WARNING:tensorflow:From /usr/local/lib/python3.6/dist-packages/keras/backend/tensorflow_backend.py:3733: calling dropout (from tensorflow.python.ops.nn_ops) with keep_prob is deprecated and will be removed in a future version.\n",
            "Instructions for updating:\n",
            "Please use `rate` instead of `keep_prob`. Rate should be set to `rate = 1 - keep_prob`.\n"
          ],
          "name": "stdout"
        },
        {
          "output_type": "stream",
          "text": [
            "/usr/local/lib/python3.6/dist-packages/ipykernel_launcher.py:2: UserWarning: Update your `Conv2D` call to the Keras 2 API: `Conv2D(48, (3, 3), input_shape=(32, 32, 3..., padding=\"same\")`\n",
            "  \n",
            "/usr/local/lib/python3.6/dist-packages/ipykernel_launcher.py:4: UserWarning: Update your `Conv2D` call to the Keras 2 API: `Conv2D(48, (3, 3))`\n",
            "  after removing the cwd from sys.path.\n",
            "/usr/local/lib/python3.6/dist-packages/ipykernel_launcher.py:8: UserWarning: Update your `Conv2D` call to the Keras 2 API: `Conv2D(96, (3, 3), padding=\"same\")`\n",
            "  \n",
            "/usr/local/lib/python3.6/dist-packages/ipykernel_launcher.py:10: UserWarning: Update your `Conv2D` call to the Keras 2 API: `Conv2D(96, (3, 3))`\n",
            "  # Remove the CWD from sys.path while we load stuff.\n",
            "/usr/local/lib/python3.6/dist-packages/ipykernel_launcher.py:14: UserWarning: Update your `Conv2D` call to the Keras 2 API: `Conv2D(192, (3, 3), padding=\"same\")`\n",
            "  \n",
            "/usr/local/lib/python3.6/dist-packages/ipykernel_launcher.py:16: UserWarning: Update your `Conv2D` call to the Keras 2 API: `Conv2D(192, (3, 3))`\n",
            "  app.launch_new_instance()\n"
          ],
          "name": "stderr"
        },
        {
          "output_type": "stream",
          "text": [
            "WARNING:tensorflow:From /usr/local/lib/python3.6/dist-packages/keras/optimizers.py:793: The name tf.train.Optimizer is deprecated. Please use tf.compat.v1.train.Optimizer instead.\n",
            "\n",
            "WARNING:tensorflow:From /usr/local/lib/python3.6/dist-packages/keras/backend/tensorflow_backend.py:3576: The name tf.log is deprecated. Please use tf.math.log instead.\n",
            "\n"
          ],
          "name": "stdout"
        }
      ]
    },
    {
      "cell_type": "code",
      "metadata": {
        "id": "wvVs5tC8mR6Q",
        "colab_type": "code",
        "outputId": "e26e86c0-22a8-4dcc-ecd8-4cd3c2ce4712",
        "colab": {
          "base_uri": "https://localhost:8080/",
          "height": 1000
        }
      },
      "source": [
        "model.summary()"
      ],
      "execution_count": 0,
      "outputs": [
        {
          "output_type": "stream",
          "text": [
            "Model: \"sequential_1\"\n",
            "_________________________________________________________________\n",
            "Layer (type)                 Output Shape              Param #   \n",
            "=================================================================\n",
            "conv2d_1 (Conv2D)            (None, 32, 32, 48)        1344      \n",
            "_________________________________________________________________\n",
            "activation_1 (Activation)    (None, 32, 32, 48)        0         \n",
            "_________________________________________________________________\n",
            "conv2d_2 (Conv2D)            (None, 30, 30, 48)        20784     \n",
            "_________________________________________________________________\n",
            "activation_2 (Activation)    (None, 30, 30, 48)        0         \n",
            "_________________________________________________________________\n",
            "max_pooling2d_1 (MaxPooling2 (None, 15, 15, 48)        0         \n",
            "_________________________________________________________________\n",
            "dropout_1 (Dropout)          (None, 15, 15, 48)        0         \n",
            "_________________________________________________________________\n",
            "conv2d_3 (Conv2D)            (None, 15, 15, 96)        41568     \n",
            "_________________________________________________________________\n",
            "activation_3 (Activation)    (None, 15, 15, 96)        0         \n",
            "_________________________________________________________________\n",
            "conv2d_4 (Conv2D)            (None, 13, 13, 96)        83040     \n",
            "_________________________________________________________________\n",
            "activation_4 (Activation)    (None, 13, 13, 96)        0         \n",
            "_________________________________________________________________\n",
            "max_pooling2d_2 (MaxPooling2 (None, 6, 6, 96)          0         \n",
            "_________________________________________________________________\n",
            "dropout_2 (Dropout)          (None, 6, 6, 96)          0         \n",
            "_________________________________________________________________\n",
            "conv2d_5 (Conv2D)            (None, 6, 6, 192)         166080    \n",
            "_________________________________________________________________\n",
            "activation_5 (Activation)    (None, 6, 6, 192)         0         \n",
            "_________________________________________________________________\n",
            "conv2d_6 (Conv2D)            (None, 4, 4, 192)         331968    \n",
            "_________________________________________________________________\n",
            "activation_6 (Activation)    (None, 4, 4, 192)         0         \n",
            "_________________________________________________________________\n",
            "max_pooling2d_3 (MaxPooling2 (None, 2, 2, 192)         0         \n",
            "_________________________________________________________________\n",
            "dropout_3 (Dropout)          (None, 2, 2, 192)         0         \n",
            "_________________________________________________________________\n",
            "flatten_1 (Flatten)          (None, 768)               0         \n",
            "_________________________________________________________________\n",
            "dense_1 (Dense)              (None, 512)               393728    \n",
            "_________________________________________________________________\n",
            "activation_7 (Activation)    (None, 512)               0         \n",
            "_________________________________________________________________\n",
            "dropout_4 (Dropout)          (None, 512)               0         \n",
            "_________________________________________________________________\n",
            "dense_2 (Dense)              (None, 256)               131328    \n",
            "_________________________________________________________________\n",
            "activation_8 (Activation)    (None, 256)               0         \n",
            "_________________________________________________________________\n",
            "dropout_5 (Dropout)          (None, 256)               0         \n",
            "_________________________________________________________________\n",
            "dense_3 (Dense)              (None, 10)                2570      \n",
            "=================================================================\n",
            "Total params: 1,172,410\n",
            "Trainable params: 1,172,410\n",
            "Non-trainable params: 0\n",
            "_________________________________________________________________\n"
          ],
          "name": "stdout"
        }
      ]
    },
    {
      "cell_type": "code",
      "metadata": {
        "id": "5oK_V7WyfsXX",
        "colab_type": "code",
        "outputId": "62ffdc1b-31b0-45f2-f766-5131ebc59717",
        "colab": {
          "base_uri": "https://localhost:8080/",
          "height": 1000
        }
      },
      "source": [
        "from keras.preprocessing.image import ImageDataGenerator\n",
        "\n",
        "datagen = ImageDataGenerator(zoom_range=0.0, \n",
        "                             horizontal_flip=False)\n",
        "\n",
        "\n",
        "# train the model\n",
        "start = time.time()\n",
        "# Train the model\n",
        "model_info = model.fit_generator(datagen.flow(train_features, train_labels, batch_size = 128),\n",
        "                                 samples_per_epoch = train_features.shape[0], nb_epoch = 50, \n",
        "                                 validation_data = (test_features, test_labels), verbose=1)\n",
        "end = time.time()\n",
        "print (\"Model took %0.2f seconds to train\"%(end - start))\n",
        "# plot model history\n",
        "plot_model_history(model_info)\n",
        "# compute test accuracy\n",
        "print (\"Accuracy on test data is: %0.2f\"%accuracy(test_features, test_labels, model))"
      ],
      "execution_count": 0,
      "outputs": [
        {
          "output_type": "stream",
          "text": [
            "WARNING:tensorflow:From /usr/local/lib/python3.6/dist-packages/tensorflow_core/python/ops/math_grad.py:1424: where (from tensorflow.python.ops.array_ops) is deprecated and will be removed in a future version.\n",
            "Instructions for updating:\n",
            "Use tf.where in 2.0, which has the same broadcast rule as np.where\n"
          ],
          "name": "stdout"
        },
        {
          "output_type": "stream",
          "text": [
            "/usr/local/lib/python3.6/dist-packages/ipykernel_launcher.py:12: UserWarning: The semantics of the Keras 2 argument `steps_per_epoch` is not the same as the Keras 1 argument `samples_per_epoch`. `steps_per_epoch` is the number of batches to draw from the generator at each epoch. Basically steps_per_epoch = samples_per_epoch/batch_size. Similarly `nb_val_samples`->`validation_steps` and `val_samples`->`steps` arguments have changed. Update your method calls accordingly.\n",
            "  if sys.path[0] == '':\n",
            "/usr/local/lib/python3.6/dist-packages/ipykernel_launcher.py:12: UserWarning: Update your `fit_generator` call to the Keras 2 API: `fit_generator(<keras_pre..., validation_data=(array([[[..., verbose=1, steps_per_epoch=390, epochs=50)`\n",
            "  if sys.path[0] == '':\n"
          ],
          "name": "stderr"
        },
        {
          "output_type": "stream",
          "text": [
            "WARNING:tensorflow:From /usr/local/lib/python3.6/dist-packages/keras/backend/tensorflow_backend.py:1033: The name tf.assign_add is deprecated. Please use tf.compat.v1.assign_add instead.\n",
            "\n",
            "WARNING:tensorflow:From /usr/local/lib/python3.6/dist-packages/keras/backend/tensorflow_backend.py:1020: The name tf.assign is deprecated. Please use tf.compat.v1.assign instead.\n",
            "\n",
            "WARNING:tensorflow:From /usr/local/lib/python3.6/dist-packages/keras/backend/tensorflow_backend.py:3005: The name tf.Session is deprecated. Please use tf.compat.v1.Session instead.\n",
            "\n",
            "Epoch 1/50\n",
            "WARNING:tensorflow:From /usr/local/lib/python3.6/dist-packages/keras/backend/tensorflow_backend.py:190: The name tf.get_default_session is deprecated. Please use tf.compat.v1.get_default_session instead.\n",
            "\n",
            "WARNING:tensorflow:From /usr/local/lib/python3.6/dist-packages/keras/backend/tensorflow_backend.py:197: The name tf.ConfigProto is deprecated. Please use tf.compat.v1.ConfigProto instead.\n",
            "\n",
            "WARNING:tensorflow:From /usr/local/lib/python3.6/dist-packages/keras/backend/tensorflow_backend.py:207: The name tf.global_variables is deprecated. Please use tf.compat.v1.global_variables instead.\n",
            "\n",
            "WARNING:tensorflow:From /usr/local/lib/python3.6/dist-packages/keras/backend/tensorflow_backend.py:216: The name tf.is_variable_initialized is deprecated. Please use tf.compat.v1.is_variable_initialized instead.\n",
            "\n",
            "WARNING:tensorflow:From /usr/local/lib/python3.6/dist-packages/keras/backend/tensorflow_backend.py:223: The name tf.variables_initializer is deprecated. Please use tf.compat.v1.variables_initializer instead.\n",
            "\n",
            "390/390 [==============================] - 16s 42ms/step - loss: 1.8732 - acc: 0.2817 - val_loss: 1.5401 - val_acc: 0.4234\n",
            "Epoch 2/50\n",
            "390/390 [==============================] - 8s 20ms/step - loss: 1.3696 - acc: 0.5018 - val_loss: 1.1216 - val_acc: 0.5936\n",
            "Epoch 3/50\n",
            "390/390 [==============================] - 8s 19ms/step - loss: 1.1409 - acc: 0.5974 - val_loss: 1.0381 - val_acc: 0.6273\n",
            "Epoch 4/50\n",
            "390/390 [==============================] - 8s 20ms/step - loss: 0.9970 - acc: 0.6510 - val_loss: 0.8773 - val_acc: 0.6937\n",
            "Epoch 5/50\n",
            "390/390 [==============================] - 8s 20ms/step - loss: 0.8840 - acc: 0.6957 - val_loss: 0.7671 - val_acc: 0.7314\n",
            "Epoch 6/50\n",
            "390/390 [==============================] - 8s 19ms/step - loss: 0.8191 - acc: 0.7184 - val_loss: 0.7717 - val_acc: 0.7344\n",
            "Epoch 7/50\n",
            "390/390 [==============================] - 8s 20ms/step - loss: 0.7544 - acc: 0.7457 - val_loss: 0.6916 - val_acc: 0.7598\n",
            "Epoch 8/50\n",
            "390/390 [==============================] - 8s 20ms/step - loss: 0.7030 - acc: 0.7609 - val_loss: 0.6621 - val_acc: 0.7726\n",
            "Epoch 9/50\n",
            "390/390 [==============================] - 8s 19ms/step - loss: 0.6671 - acc: 0.7721 - val_loss: 0.6740 - val_acc: 0.7785\n",
            "Epoch 10/50\n",
            "390/390 [==============================] - 8s 19ms/step - loss: 0.6371 - acc: 0.7846 - val_loss: 0.6208 - val_acc: 0.7897\n",
            "Epoch 11/50\n",
            "390/390 [==============================] - 8s 20ms/step - loss: 0.6085 - acc: 0.7924 - val_loss: 0.5982 - val_acc: 0.7985\n",
            "Epoch 12/50\n",
            "390/390 [==============================] - 8s 19ms/step - loss: 0.5970 - acc: 0.7979 - val_loss: 0.6118 - val_acc: 0.7932\n",
            "Epoch 13/50\n",
            "390/390 [==============================] - 8s 19ms/step - loss: 0.5689 - acc: 0.8064 - val_loss: 0.6091 - val_acc: 0.7931\n",
            "Epoch 14/50\n",
            "390/390 [==============================] - 8s 19ms/step - loss: 0.5496 - acc: 0.8140 - val_loss: 0.6110 - val_acc: 0.7990\n",
            "Epoch 15/50\n",
            "390/390 [==============================] - 8s 19ms/step - loss: 0.5302 - acc: 0.8192 - val_loss: 0.5696 - val_acc: 0.8095\n",
            "Epoch 16/50\n",
            "390/390 [==============================] - 8s 19ms/step - loss: 0.5205 - acc: 0.8232 - val_loss: 0.5981 - val_acc: 0.7981\n",
            "Epoch 17/50\n",
            "390/390 [==============================] - 7s 19ms/step - loss: 0.5014 - acc: 0.8295 - val_loss: 0.6223 - val_acc: 0.7968\n",
            "Epoch 18/50\n",
            "390/390 [==============================] - 8s 19ms/step - loss: 0.4937 - acc: 0.8324 - val_loss: 0.5858 - val_acc: 0.8072\n",
            "Epoch 19/50\n",
            "390/390 [==============================] - 8s 19ms/step - loss: 0.4823 - acc: 0.8374 - val_loss: 0.5804 - val_acc: 0.8091\n",
            "Epoch 20/50\n",
            "390/390 [==============================] - 7s 19ms/step - loss: 0.4680 - acc: 0.8406 - val_loss: 0.5916 - val_acc: 0.8067\n",
            "Epoch 21/50\n",
            "390/390 [==============================] - 8s 19ms/step - loss: 0.4584 - acc: 0.8429 - val_loss: 0.5881 - val_acc: 0.8116\n",
            "Epoch 22/50\n",
            "390/390 [==============================] - 8s 19ms/step - loss: 0.4500 - acc: 0.8467 - val_loss: 0.5634 - val_acc: 0.8147\n",
            "Epoch 23/50\n",
            "390/390 [==============================] - 8s 20ms/step - loss: 0.4391 - acc: 0.8493 - val_loss: 0.5848 - val_acc: 0.8176\n",
            "Epoch 24/50\n",
            "390/390 [==============================] - 8s 19ms/step - loss: 0.4356 - acc: 0.8521 - val_loss: 0.5891 - val_acc: 0.8095\n",
            "Epoch 25/50\n",
            "390/390 [==============================] - 8s 19ms/step - loss: 0.4263 - acc: 0.8552 - val_loss: 0.6001 - val_acc: 0.8100\n",
            "Epoch 26/50\n",
            "390/390 [==============================] - 8s 20ms/step - loss: 0.4176 - acc: 0.8572 - val_loss: 0.5880 - val_acc: 0.8144\n",
            "Epoch 27/50\n",
            "390/390 [==============================] - 8s 19ms/step - loss: 0.4116 - acc: 0.8593 - val_loss: 0.5688 - val_acc: 0.8201\n",
            "Epoch 28/50\n",
            "390/390 [==============================] - 8s 19ms/step - loss: 0.4119 - acc: 0.8585 - val_loss: 0.5832 - val_acc: 0.8221\n",
            "Epoch 29/50\n",
            "390/390 [==============================] - 8s 20ms/step - loss: 0.4101 - acc: 0.8590 - val_loss: 0.5502 - val_acc: 0.8252\n",
            "Epoch 30/50\n",
            "390/390 [==============================] - 8s 19ms/step - loss: 0.3973 - acc: 0.8651 - val_loss: 0.5630 - val_acc: 0.8208\n",
            "Epoch 31/50\n",
            "390/390 [==============================] - 8s 20ms/step - loss: 0.3838 - acc: 0.8705 - val_loss: 0.5937 - val_acc: 0.8144\n",
            "Epoch 32/50\n",
            "390/390 [==============================] - 8s 19ms/step - loss: 0.3791 - acc: 0.8720 - val_loss: 0.5670 - val_acc: 0.8224\n",
            "Epoch 33/50\n",
            "390/390 [==============================] - 8s 19ms/step - loss: 0.3885 - acc: 0.8679 - val_loss: 0.5817 - val_acc: 0.8268\n",
            "Epoch 34/50\n",
            "390/390 [==============================] - 8s 19ms/step - loss: 0.3776 - acc: 0.8714 - val_loss: 0.5519 - val_acc: 0.8243\n",
            "Epoch 35/50\n",
            "390/390 [==============================] - 8s 20ms/step - loss: 0.3687 - acc: 0.8755 - val_loss: 0.5712 - val_acc: 0.8181\n",
            "Epoch 36/50\n",
            "390/390 [==============================] - 8s 19ms/step - loss: 0.3625 - acc: 0.8780 - val_loss: 0.5581 - val_acc: 0.8289\n",
            "Epoch 37/50\n",
            "390/390 [==============================] - 8s 19ms/step - loss: 0.3632 - acc: 0.8779 - val_loss: 0.5623 - val_acc: 0.8248\n",
            "Epoch 38/50\n",
            "390/390 [==============================] - 8s 19ms/step - loss: 0.3581 - acc: 0.8779 - val_loss: 0.5569 - val_acc: 0.8286\n",
            "Epoch 39/50\n",
            "390/390 [==============================] - 8s 19ms/step - loss: 0.3485 - acc: 0.8819 - val_loss: 0.5661 - val_acc: 0.8333\n",
            "Epoch 40/50\n",
            "390/390 [==============================] - 8s 20ms/step - loss: 0.3585 - acc: 0.8802 - val_loss: 0.5869 - val_acc: 0.8254\n",
            "Epoch 41/50\n",
            "390/390 [==============================] - 8s 19ms/step - loss: 0.3452 - acc: 0.8837 - val_loss: 0.5577 - val_acc: 0.8274\n",
            "Epoch 42/50\n",
            "390/390 [==============================] - 8s 20ms/step - loss: 0.3449 - acc: 0.8844 - val_loss: 0.5891 - val_acc: 0.8243\n",
            "Epoch 43/50\n",
            "390/390 [==============================] - 8s 19ms/step - loss: 0.3395 - acc: 0.8857 - val_loss: 0.5918 - val_acc: 0.8200\n",
            "Epoch 44/50\n",
            "390/390 [==============================] - 8s 19ms/step - loss: 0.3402 - acc: 0.8872 - val_loss: 0.6010 - val_acc: 0.8236\n",
            "Epoch 45/50\n",
            "390/390 [==============================] - 8s 20ms/step - loss: 0.3413 - acc: 0.8859 - val_loss: 0.5771 - val_acc: 0.8321\n",
            "Epoch 46/50\n",
            "390/390 [==============================] - 8s 20ms/step - loss: 0.3356 - acc: 0.8882 - val_loss: 0.5679 - val_acc: 0.8288\n",
            "Epoch 47/50\n",
            "390/390 [==============================] - 8s 19ms/step - loss: 0.3244 - acc: 0.8925 - val_loss: 0.5862 - val_acc: 0.8277\n",
            "Epoch 48/50\n",
            "390/390 [==============================] - 8s 19ms/step - loss: 0.3318 - acc: 0.8912 - val_loss: 0.6094 - val_acc: 0.8255\n",
            "Epoch 49/50\n",
            "390/390 [==============================] - 8s 19ms/step - loss: 0.3303 - acc: 0.8898 - val_loss: 0.5682 - val_acc: 0.8258\n",
            "Epoch 50/50\n",
            "390/390 [==============================] - 8s 19ms/step - loss: 0.3118 - acc: 0.8955 - val_loss: 0.6176 - val_acc: 0.8225\n",
            "Model took 388.66 seconds to train\n"
          ],
          "name": "stdout"
        },
        {
          "output_type": "display_data",
          "data": {
            "image/png": "[encoded data removed]",
            "text/plain": [
              "<Figure size 1080x360 with 2 Axes>"
            ]
          },
          "metadata": {
            "tags": []
          }
        },
        {
          "output_type": "stream",
          "text": [
            "Accuracy on test data is: 82.25\n"
          ],
          "name": "stdout"
        }
      ]
    },
    {
      "cell_type": "code",
      "metadata": {
        "id": "fylvlzQ2BC-E",
        "colab_type": "code",
        "colab": {}
      },
      "source": [
        "def maxpool(x, k=2, s=2, p='same'):\n",
        "  return MaxPooling2D(pool_size=k, strides=s, padding=p)(x)\n",
        "def avgpool(x, k=2, s=2, p='same'):\n",
        "  return AveragePooling2D(pool_size=k, strides=s, padding=p)(x)\n",
        "def gavgpool(x):\n",
        "  return GlobalAveragePooling2D()(x)\n",
        "def sepconv(x, f, k=3, s=1, p='same', d=1, a='relu'):\n",
        "  return SeparableConv2D(filters=f, kernel_size=k, strides=s, \n",
        "                padding=p, dilation_rate=d, activation=a)(x)"
      ],
      "execution_count": 0,
      "outputs": []
    },
    {
      "cell_type": "code",
      "metadata": {
        "id": "lsauNt0z5buH",
        "colab_type": "code",
        "outputId": "8b607ed7-e184-4189-f027-0e8ba7ef62f0",
        "colab": {
          "base_uri": "https://localhost:8080/",
          "height": 1000
        }
      },
      "source": [
        "layers_param=[(3,32,1),(3,64,2),(3,128,1)]\n",
        "mymodel=Sequential()\n",
        "mymodel.add(SeparableConv2D(32,(3,3),strides=1,activation='relu',input_shape=(32, 32, 3)))\n",
        "mymodel.add(BatchNormalization())\n",
        "mymodel.add(Dropout(0.05))\n",
        "\n",
        "mymodel.add(SeparableConv2D(64,(3,3),strides=1,activation='relu'))\n",
        "mymodel.add(BatchNormalization())\n",
        "mymodel.add(Dropout(0.05))\n",
        "\n",
        "mymodel.add(SeparableConv2D(64,(3,3),strides=1,activation='relu'))\n",
        "mymodel.add(BatchNormalization())\n",
        "mymodel.add(Dropout(0.05))\n",
        "\n",
        "mymodel.add(SeparableConv2D(128,(3,3),strides=2,activation='relu'))\n",
        "mymodel.add(BatchNormalization())\n",
        "mymodel.add(Dropout(0.1))\n",
        "\n",
        "mymodel.add(SeparableConv2D(64,(3,3),strides=1,activation='relu'))\n",
        "mymodel.add(BatchNormalization())\n",
        "mymodel.add(Dropout(0.1))\n",
        "\n",
        "mymodel.add(SeparableConv2D(128,(3,3),strides=1,activation='relu'))\n",
        "mymodel.add(BatchNormalization())\n",
        "mymodel.add(Dropout(0.1))\n",
        "\n",
        "mymodel.add(SeparableConv2D(128,(3,3),strides=2,activation='relu'))\n",
        "mymodel.add(BatchNormalization())\n",
        "mymodel.add(Dropout(0.15))\n",
        "\n",
        "mymodel.add(SeparableConv2D(256,(3,3),strides=1,padding='same',activation='relu'))\n",
        "mymodel.add(BatchNormalization())\n",
        "mymodel.add(Dropout(0.15))\n",
        "\n",
        "mymodel.add(SeparableConv2D(10,(3,3),strides=1,padding='same',activation='relu'))\n",
        "mymodel.add(BatchNormalization())\n",
        "mymodel.add(Dropout(0.15))\n",
        "\n",
        "mymodel.add(GlobalAveragePooling2D())\n",
        "mymodel.add(Activation('softmax'))\n",
        "mymodel.summary()"
      ],
      "execution_count": 131,
      "outputs": [
        {
          "output_type": "stream",
          "text": [
            "Model: \"sequential_41\"\n",
            "_________________________________________________________________\n",
            "Layer (type)                 Output Shape              Param #   \n",
            "=================================================================\n",
            "separable_conv2d_170 (Separa (None, 30, 30, 32)        155       \n",
            "_________________________________________________________________\n",
            "batch_normalization_158 (Bat (None, 30, 30, 32)        128       \n",
            "_________________________________________________________________\n",
            "dropout_150 (Dropout)        (None, 30, 30, 32)        0         \n",
            "_________________________________________________________________\n",
            "separable_conv2d_171 (Separa (None, 28, 28, 64)        2400      \n",
            "_________________________________________________________________\n",
            "batch_normalization_159 (Bat (None, 28, 28, 64)        256       \n",
            "_________________________________________________________________\n",
            "dropout_151 (Dropout)        (None, 28, 28, 64)        0         \n",
            "_________________________________________________________________\n",
            "separable_conv2d_172 (Separa (None, 26, 26, 64)        4736      \n",
            "_________________________________________________________________\n",
            "batch_normalization_160 (Bat (None, 26, 26, 64)        256       \n",
            "_________________________________________________________________\n",
            "dropout_152 (Dropout)        (None, 26, 26, 64)        0         \n",
            "_________________________________________________________________\n",
            "separable_conv2d_173 (Separa (None, 12, 12, 128)       8896      \n",
            "_________________________________________________________________\n",
            "batch_normalization_161 (Bat (None, 12, 12, 128)       512       \n",
            "_________________________________________________________________\n",
            "dropout_153 (Dropout)        (None, 12, 12, 128)       0         \n",
            "_________________________________________________________________\n",
            "separable_conv2d_174 (Separa (None, 10, 10, 64)        9408      \n",
            "_________________________________________________________________\n",
            "batch_normalization_162 (Bat (None, 10, 10, 64)        256       \n",
            "_________________________________________________________________\n",
            "dropout_154 (Dropout)        (None, 10, 10, 64)        0         \n",
            "_________________________________________________________________\n",
            "separable_conv2d_175 (Separa (None, 8, 8, 128)         8896      \n",
            "_________________________________________________________________\n",
            "batch_normalization_163 (Bat (None, 8, 8, 128)         512       \n",
            "_________________________________________________________________\n",
            "dropout_155 (Dropout)        (None, 8, 8, 128)         0         \n",
            "_________________________________________________________________\n",
            "separable_conv2d_176 (Separa (None, 3, 3, 128)         17664     \n",
            "_________________________________________________________________\n",
            "batch_normalization_164 (Bat (None, 3, 3, 128)         512       \n",
            "_________________________________________________________________\n",
            "dropout_156 (Dropout)        (None, 3, 3, 128)         0         \n",
            "_________________________________________________________________\n",
            "separable_conv2d_177 (Separa (None, 3, 3, 256)         34176     \n",
            "_________________________________________________________________\n",
            "batch_normalization_165 (Bat (None, 3, 3, 256)         1024      \n",
            "_________________________________________________________________\n",
            "dropout_157 (Dropout)        (None, 3, 3, 256)         0         \n",
            "_________________________________________________________________\n",
            "separable_conv2d_178 (Separa (None, 3, 3, 10)          4874      \n",
            "_________________________________________________________________\n",
            "batch_normalization_166 (Bat (None, 3, 3, 10)          40        \n",
            "_________________________________________________________________\n",
            "dropout_158 (Dropout)        (None, 3, 3, 10)          0         \n",
            "_________________________________________________________________\n",
            "global_average_pooling2d_14  (None, 10)                0         \n",
            "_________________________________________________________________\n",
            "activation_22 (Activation)   (None, 10)                0         \n",
            "=================================================================\n",
            "Total params: 94,701\n",
            "Trainable params: 92,953\n",
            "Non-trainable params: 1,748\n",
            "_________________________________________________________________\n"
          ],
          "name": "stdout"
        }
      ]
    },
    {
      "cell_type": "code",
      "metadata": {
        "id": "_hnO6Zwo7-k3",
        "colab_type": "code",
        "outputId": "e9a53756-0545-4d96-9e4c-a5c1c8d6981a",
        "colab": {
          "base_uri": "https://localhost:8080/",
          "height": 1000
        }
      },
      "source": [
        "from keras.preprocessing.image import ImageDataGenerator\n",
        "from keras.optimizers import Adam\n",
        "from keras.callbacks import LearningRateScheduler\n",
        "from keras.callbacks import *\n",
        "\n",
        "epoch=50\n",
        "batch_size=512\n",
        "\n",
        "#def scheduler(epoch, lr):\n",
        "#  return round((lr * 1/(1 + np.pi/100 * epoch)), 10)\n",
        "\n",
        "clr = CyclicLR(\n",
        "\tmode='triangular2',\n",
        "\tbase_lr=0.001,\n",
        "\tmax_lr=0.01,\n",
        "\tstep_size= 500)\n",
        "\n",
        "mymodel.compile(optimizer=Adam(lr=0.1), loss='categorical_crossentropy', metrics=['accuracy'])\n",
        "\n",
        "datagen = ImageDataGenerator(shear_range=0.2,zoom_range=0.2,horizontal_flip=True)\n",
        "\n",
        "#datagen.standardize(train_features)\n",
        "# train the model\n",
        "start = time.time()\n",
        "# Train the model\n",
        "\n",
        "model_info = mymodel.fit_generator(datagen.flow(train_features, train_labels, batch_size = batch_size),\n",
        "                                 samples_per_epoch = train_features.shape[0], nb_epoch = epoch, \n",
        "                                 validation_data = (test_features, test_labels),verbose=1,\n",
        "                                 callbacks=[clr])\n",
        "\n",
        "\n",
        "end = time.time()\n",
        "print (\"Model took %0.2f seconds to train\"%(end - start))\n",
        "# plot model history\n",
        "plot_model_history(model_info)\n",
        "# compute test accuracy\n",
        "print (\"Accuracy on test data is: %0.2f\"%accuracy(test_features, test_labels, mymodel))"
      ],
      "execution_count": 137,
      "outputs": [
        {
          "output_type": "stream",
          "text": [
            "/usr/local/lib/python3.6/dist-packages/ipykernel_launcher.py:30: UserWarning: The semantics of the Keras 2 argument `steps_per_epoch` is not the same as the Keras 1 argument `samples_per_epoch`. `steps_per_epoch` is the number of batches to draw from the generator at each epoch. Basically steps_per_epoch = samples_per_epoch/batch_size. Similarly `nb_val_samples`->`validation_steps` and `val_samples`->`steps` arguments have changed. Update your method calls accordingly.\n",
            "/usr/local/lib/python3.6/dist-packages/ipykernel_launcher.py:30: UserWarning: Update your `fit_generator` call to the Keras 2 API: `fit_generator(<keras_pre..., validation_data=(array([[[..., verbose=1, callbacks=[<__main__..., steps_per_epoch=97, epochs=50)`\n"
          ],
          "name": "stderr"
        },
        {
          "output_type": "stream",
          "text": [
            "Epoch 1/50\n",
            " 3/97 [..............................] - ETA: 4:19 - loss: 0.3723 - acc: 0.8607"
          ],
          "name": "stdout"
        },
        {
          "output_type": "stream",
          "text": [
            "/usr/local/lib/python3.6/dist-packages/keras/callbacks.py:95: RuntimeWarning: Method (on_train_batch_end) is slow compared to the batch update (1.197477). Check your callbacks.\n",
            "  % (hook_name, delta_t_median), RuntimeWarning)\n"
          ],
          "name": "stderr"
        },
        {
          "output_type": "stream",
          "text": [
            "97/97 [==============================] - 39s 406ms/step - loss: 0.3588 - acc: 0.8752 - val_loss: 0.4514 - val_acc: 0.8501\n",
            "Epoch 2/50\n",
            "97/97 [==============================] - 31s 323ms/step - loss: 0.3613 - acc: 0.8722 - val_loss: 0.4492 - val_acc: 0.8507\n",
            "Epoch 3/50\n",
            "97/97 [==============================] - 31s 320ms/step - loss: 0.3692 - acc: 0.8721 - val_loss: 0.4833 - val_acc: 0.8396\n",
            "Epoch 4/50\n",
            "97/97 [==============================] - 31s 321ms/step - loss: 0.3690 - acc: 0.8701 - val_loss: 0.4553 - val_acc: 0.8462\n",
            "Epoch 5/50\n",
            "97/97 [==============================] - 31s 321ms/step - loss: 0.3664 - acc: 0.8729 - val_loss: 0.4701 - val_acc: 0.8458\n",
            "Epoch 6/50\n",
            "97/97 [==============================] - 31s 320ms/step - loss: 0.3677 - acc: 0.8725 - val_loss: 0.4736 - val_acc: 0.8454\n",
            "Epoch 7/50\n",
            "97/97 [==============================] - 31s 319ms/step - loss: 0.3654 - acc: 0.8724 - val_loss: 0.4644 - val_acc: 0.8482\n",
            "Epoch 8/50\n",
            "97/97 [==============================] - 31s 317ms/step - loss: 0.3585 - acc: 0.8740 - val_loss: 0.4568 - val_acc: 0.8493\n",
            "Epoch 9/50\n",
            "97/97 [==============================] - 31s 319ms/step - loss: 0.3557 - acc: 0.8761 - val_loss: 0.4483 - val_acc: 0.8521\n",
            "Epoch 10/50\n",
            "97/97 [==============================] - 31s 317ms/step - loss: 0.3463 - acc: 0.8780 - val_loss: 0.4534 - val_acc: 0.8494\n",
            "Epoch 11/50\n",
            "97/97 [==============================] - 31s 320ms/step - loss: 0.3421 - acc: 0.8798 - val_loss: 0.4465 - val_acc: 0.8533\n",
            "Epoch 12/50\n",
            "97/97 [==============================] - 31s 318ms/step - loss: 0.3417 - acc: 0.8804 - val_loss: 0.4475 - val_acc: 0.8523\n",
            "Epoch 13/50\n",
            "97/97 [==============================] - 30s 314ms/step - loss: 0.3465 - acc: 0.8789 - val_loss: 0.4479 - val_acc: 0.8534\n",
            "Epoch 14/50\n",
            "97/97 [==============================] - 30s 313ms/step - loss: 0.3453 - acc: 0.8794 - val_loss: 0.4477 - val_acc: 0.8531\n",
            "Epoch 15/50\n",
            "97/97 [==============================] - 30s 313ms/step - loss: 0.3442 - acc: 0.8802 - val_loss: 0.4539 - val_acc: 0.8491\n",
            "Epoch 16/50\n",
            "97/97 [==============================] - 30s 313ms/step - loss: 0.3526 - acc: 0.8775 - val_loss: 0.4507 - val_acc: 0.8535\n",
            "Epoch 17/50\n",
            "97/97 [==============================] - 30s 312ms/step - loss: 0.3443 - acc: 0.8807 - val_loss: 0.4483 - val_acc: 0.8520\n",
            "Epoch 18/50\n",
            "97/97 [==============================] - 30s 310ms/step - loss: 0.3473 - acc: 0.8805 - val_loss: 0.4482 - val_acc: 0.8534\n",
            "Epoch 19/50\n",
            "97/97 [==============================] - 30s 311ms/step - loss: 0.3396 - acc: 0.8810 - val_loss: 0.4456 - val_acc: 0.8557\n",
            "Epoch 20/50\n",
            "97/97 [==============================] - 30s 312ms/step - loss: 0.3378 - acc: 0.8814 - val_loss: 0.4495 - val_acc: 0.8535\n",
            "Epoch 21/50\n",
            "97/97 [==============================] - 30s 310ms/step - loss: 0.3376 - acc: 0.8819 - val_loss: 0.4429 - val_acc: 0.8554\n",
            "Epoch 22/50\n",
            "97/97 [==============================] - 30s 309ms/step - loss: 0.3422 - acc: 0.8784 - val_loss: 0.4432 - val_acc: 0.8566\n",
            "Epoch 23/50\n",
            "97/97 [==============================] - 30s 308ms/step - loss: 0.3396 - acc: 0.8821 - val_loss: 0.4426 - val_acc: 0.8550\n",
            "Epoch 24/50\n",
            "97/97 [==============================] - 30s 311ms/step - loss: 0.3315 - acc: 0.8824 - val_loss: 0.4474 - val_acc: 0.8544\n",
            "Epoch 25/50\n",
            "97/97 [==============================] - 30s 310ms/step - loss: 0.3407 - acc: 0.8811 - val_loss: 0.4445 - val_acc: 0.8549\n",
            "Epoch 26/50\n",
            "97/97 [==============================] - 30s 311ms/step - loss: 0.3351 - acc: 0.8825 - val_loss: 0.4474 - val_acc: 0.8539\n",
            "Epoch 27/50\n",
            "97/97 [==============================] - 30s 311ms/step - loss: 0.3393 - acc: 0.8809 - val_loss: 0.4493 - val_acc: 0.8536\n",
            "Epoch 28/50\n",
            "97/97 [==============================] - 30s 311ms/step - loss: 0.3361 - acc: 0.8817 - val_loss: 0.4448 - val_acc: 0.8561\n",
            "Epoch 29/50\n",
            "97/97 [==============================] - 30s 312ms/step - loss: 0.3358 - acc: 0.8819 - val_loss: 0.4544 - val_acc: 0.8542\n",
            "Epoch 30/50\n",
            "97/97 [==============================] - 30s 311ms/step - loss: 0.3350 - acc: 0.8821 - val_loss: 0.4440 - val_acc: 0.8571\n",
            "Epoch 31/50\n",
            "97/97 [==============================] - 30s 312ms/step - loss: 0.3301 - acc: 0.8848 - val_loss: 0.4496 - val_acc: 0.8551\n",
            "Epoch 32/50\n",
            "97/97 [==============================] - 30s 311ms/step - loss: 0.3306 - acc: 0.8850 - val_loss: 0.4440 - val_acc: 0.8574\n",
            "Epoch 33/50\n",
            "97/97 [==============================] - 30s 310ms/step - loss: 0.3291 - acc: 0.8835 - val_loss: 0.4419 - val_acc: 0.8568\n",
            "Epoch 34/50\n",
            "97/97 [==============================] - 30s 310ms/step - loss: 0.3343 - acc: 0.8838 - val_loss: 0.4446 - val_acc: 0.8554\n",
            "Epoch 35/50\n",
            "97/97 [==============================] - 30s 308ms/step - loss: 0.3325 - acc: 0.8834 - val_loss: 0.4441 - val_acc: 0.8547\n",
            "Epoch 36/50\n",
            "97/97 [==============================] - 30s 309ms/step - loss: 0.3277 - acc: 0.8836 - val_loss: 0.4522 - val_acc: 0.8539\n",
            "Epoch 37/50\n",
            "97/97 [==============================] - 30s 308ms/step - loss: 0.3290 - acc: 0.8836 - val_loss: 0.4430 - val_acc: 0.8585\n",
            "Epoch 38/50\n",
            "97/97 [==============================] - 30s 305ms/step - loss: 0.3267 - acc: 0.8858 - val_loss: 0.4443 - val_acc: 0.8542\n",
            "Epoch 39/50\n",
            "97/97 [==============================] - 30s 306ms/step - loss: 0.3315 - acc: 0.8844 - val_loss: 0.4447 - val_acc: 0.8556\n",
            "Epoch 40/50\n",
            "97/97 [==============================] - 31s 316ms/step - loss: 0.3302 - acc: 0.8842 - val_loss: 0.4442 - val_acc: 0.8565\n",
            "Epoch 41/50\n",
            "97/97 [==============================] - 30s 310ms/step - loss: 0.3322 - acc: 0.8836 - val_loss: 0.4424 - val_acc: 0.8576\n",
            "Epoch 42/50\n",
            "97/97 [==============================] - 30s 307ms/step - loss: 0.3217 - acc: 0.8862 - val_loss: 0.4452 - val_acc: 0.8573\n",
            "Epoch 43/50\n",
            "97/97 [==============================] - 30s 309ms/step - loss: 0.3322 - acc: 0.8840 - val_loss: 0.4469 - val_acc: 0.8553\n",
            "Epoch 44/50\n",
            "97/97 [==============================] - 30s 310ms/step - loss: 0.3239 - acc: 0.8854 - val_loss: 0.4466 - val_acc: 0.8571\n",
            "Epoch 45/50\n",
            "97/97 [==============================] - 30s 306ms/step - loss: 0.3297 - acc: 0.8854 - val_loss: 0.4425 - val_acc: 0.8580\n",
            "Epoch 46/50\n",
            "97/97 [==============================] - 30s 305ms/step - loss: 0.3246 - acc: 0.8860 - val_loss: 0.4450 - val_acc: 0.8567\n",
            "Epoch 47/50\n",
            "97/97 [==============================] - 30s 307ms/step - loss: 0.3285 - acc: 0.8851 - val_loss: 0.4425 - val_acc: 0.8557\n",
            "Epoch 48/50\n",
            "97/97 [==============================] - 30s 306ms/step - loss: 0.3286 - acc: 0.8839 - val_loss: 0.4412 - val_acc: 0.8563\n",
            "Epoch 49/50\n",
            "97/97 [==============================] - 30s 305ms/step - loss: 0.3269 - acc: 0.8854 - val_loss: 0.4440 - val_acc: 0.8564\n",
            "Epoch 50/50\n",
            "97/97 [==============================] - 31s 319ms/step - loss: 0.3234 - acc: 0.8865 - val_loss: 0.4418 - val_acc: 0.8584\n",
            "Model took 1540.24 seconds to train\n"
          ],
          "name": "stdout"
        },
        {
          "output_type": "display_data",
          "data": {
            "image/png": "[encoded data removed]",
            "text/plain": [
              "<Figure size 1080x360 with 2 Axes>"
            ]
          },
          "metadata": {
            "tags": []
          }
        },
        {
          "output_type": "stream",
          "text": [
            "Accuracy on test data is: 85.84\n"
          ],
          "name": "stdout"
        }
      ]
    },
    {
      "cell_type": "code",
      "metadata": {
        "id": "f0eH_ORRB3uI",
        "colab_type": "code",
        "colab": {
          "base_uri": "https://localhost:8080/",
          "height": 548
        },
        "outputId": "918400eb-8b38-4794-9edf-9e5f16fbaeb4"
      },
      "source": [
        "lr = clr.history['lr']\n",
        "loss = clr.history['loss']\n",
        "\n",
        "import matplotlib.pyplot as plt\n",
        "print('LR range vs iteration')\n",
        "plt.plot(range(len(lr)), lr)\n",
        "plt.show()\n",
        "print('Loss vs LR')\n",
        "plt.plot(lr, loss)\n",
        "plt.show()"
      ],
      "execution_count": 138,
      "outputs": [
        {
          "output_type": "stream",
          "text": [
            "LR range vs iteration\n"
          ],
          "name": "stdout"
        },
        {
          "output_type": "display_data",
          "data": {
            "image/png": "[encoded data removed]",
            "text/plain": [
              "<Figure size 432x288 with 1 Axes>"
            ]
          },
          "metadata": {
            "tags": []
          }
        },
        {
          "output_type": "stream",
          "text": [
            "Loss vs LR\n"
          ],
          "name": "stdout"
        },
        {
          "output_type": "display_data",
          "data": {
            "image/png": "[encoded data removed]",
            "text/plain": [
              "<Figure size 432x288 with 1 Axes>"
            ]
          },
          "metadata": {
            "tags": []
          }
        }
      ]
    },
    {
      "cell_type": "code",
      "metadata": {
        "id": "8z7lj0O-zgxX",
        "colab_type": "code",
        "colab": {}
      },
      "source": [
        "from tensorflow.keras.callbacks import *\n",
        "\n",
        "class CyclicLR(Callback):\n",
        "    \"\"\"This callback implements a cyclical learning rate policy (CLR).\n",
        "    The method cycles the learning rate between two boundaries with\n",
        "    some constant frequency, as detailed in this paper (https://arxiv.org/abs/1506.01186).\n",
        "    The amplitude of the cycle can be scaled on a per-iteration or \n",
        "    per-cycle basis.\n",
        "    This class has three built-in policies, as put forth in the paper.\n",
        "    \"triangular\":\n",
        "        A basic triangular cycle w/ no amplitude scaling.\n",
        "    \"triangular2\":\n",
        "        A basic triangular cycle that scales initial amplitude by half each cycle.\n",
        "    \"exp_range\":\n",
        "        A cycle that scales initial amplitude by gamma**(cycle iterations) at each \n",
        "        cycle iteration.\n",
        "    For more detail, please see paper.\n",
        "    \n",
        "    # Example\n",
        "        ```python\n",
        "            clr = CyclicLR(base_lr=0.001, max_lr=0.006,\n",
        "                                step_size=2000., mode='triangular')\n",
        "            model.fit(X_train, Y_train, callbacks=[clr])\n",
        "        ```\n",
        "    \n",
        "    Class also supports custom scaling functions:\n",
        "        ```python\n",
        "            clr_fn = lambda x: 0.5*(1+np.sin(x*np.pi/2.))\n",
        "            clr = CyclicLR(base_lr=0.001, max_lr=0.006,\n",
        "                                step_size=2000., scale_fn=clr_fn,\n",
        "                                scale_mode='cycle')\n",
        "            model.fit(X_train, Y_train, callbacks=[clr])\n",
        "        ```    \n",
        "    # Arguments\n",
        "        base_lr: initial learning rate which is the\n",
        "            lower boundary in the cycle.\n",
        "        max_lr: upper boundary in the cycle. Functionally,\n",
        "            it defines the cycle amplitude (max_lr - base_lr).\n",
        "            The lr at any cycle is the sum of base_lr\n",
        "            and some scaling of the amplitude; therefore \n",
        "            max_lr may not actually be reached depending on\n",
        "            scaling function.\n",
        "        step_size: number of training iterations per\n",
        "            half cycle. Authors suggest setting step_size\n",
        "            2-8 x training iterations in epoch.\n",
        "        mode: one of {triangular, triangular2, exp_range}.\n",
        "            Default 'triangular'.\n",
        "            Values correspond to policies detailed above.\n",
        "            If scale_fn is not None, this argument is ignored.\n",
        "        gamma: constant in 'exp_range' scaling function:\n",
        "            gamma**(cycle iterations)\n",
        "        scale_fn: Custom scaling policy defined by a single\n",
        "            argument lambda function, where \n",
        "            0 <= scale_fn(x) <= 1 for all x >= 0.\n",
        "            mode paramater is ignored \n",
        "        scale_mode: {'cycle', 'iterations'}.\n",
        "            Defines whether scale_fn is evaluated on \n",
        "            cycle number or cycle iterations (training\n",
        "            iterations since start of cycle). Default is 'cycle'.\n",
        "    \"\"\"\n",
        "\n",
        "    def __init__(self, base_lr=0.001, max_lr=0.006, step_size=2000., mode='triangular',\n",
        "                 gamma=1., scale_fn=None, scale_mode='cycle'):\n",
        "        super(CyclicLR, self).__init__()\n",
        "\n",
        "        self.base_lr = base_lr\n",
        "        self.max_lr = max_lr\n",
        "        self.step_size = step_size\n",
        "        self.mode = mode\n",
        "        self.gamma = gamma\n",
        "        if scale_fn == None:\n",
        "            if self.mode == 'triangular':\n",
        "                self.scale_fn = lambda x: 1.\n",
        "                self.scale_mode = 'cycle'\n",
        "            elif self.mode == 'triangular2':\n",
        "                self.scale_fn = lambda x: 1/(2.**(x-1))\n",
        "                self.scale_mode = 'cycle'\n",
        "            elif self.mode == 'exp_range':\n",
        "                self.scale_fn = lambda x: gamma**(x)\n",
        "                self.scale_mode = 'iterations'\n",
        "        else:\n",
        "            self.scale_fn = scale_fn\n",
        "            self.scale_mode = scale_mode\n",
        "        self.clr_iterations = 0.\n",
        "        self.trn_iterations = 0.\n",
        "        self.history = {}\n",
        "\n",
        "        self._reset()\n",
        "\n",
        "    def _reset(self, new_base_lr=None, new_max_lr=None,\n",
        "               new_step_size=None):\n",
        "        \"\"\"Resets cycle iterations.\n",
        "        Optional boundary/step size adjustment.\n",
        "        \"\"\"\n",
        "        if new_base_lr != None:\n",
        "            self.base_lr = new_base_lr\n",
        "        if new_max_lr != None:\n",
        "            self.max_lr = new_max_lr\n",
        "        if new_step_size != None:\n",
        "            self.step_size = new_step_size\n",
        "        self.clr_iterations = 0.\n",
        "        \n",
        "    def clr(self):\n",
        "        cycle = np.floor(1+self.clr_iterations/(2*self.step_size))\n",
        "        x = np.abs(self.clr_iterations/self.step_size - 2*cycle + 1)\n",
        "        if self.scale_mode == 'cycle':\n",
        "            return self.base_lr + (self.max_lr-self.base_lr)*np.maximum(0, (1-x))*self.scale_fn(cycle)\n",
        "        else:\n",
        "            return self.base_lr + (self.max_lr-self.base_lr)*np.maximum(0, (1-x))*self.scale_fn(self.clr_iterations)\n",
        "        \n",
        "    def on_train_begin(self, logs={}):\n",
        "        logs = logs or {}\n",
        "\n",
        "        if self.clr_iterations == 0:\n",
        "            K.set_value(self.model.optimizer.lr, self.base_lr)\n",
        "        else:\n",
        "            K.set_value(self.model.optimizer.lr, self.clr())        \n",
        "            \n",
        "    def on_batch_end(self, epoch, logs=None):\n",
        "        \n",
        "        logs = logs or {}\n",
        "        self.trn_iterations += 1\n",
        "        self.clr_iterations += 1\n",
        "\n",
        "        self.history.setdefault('lr', []).append(K.get_value(self.model.optimizer.lr))\n",
        "        self.history.setdefault('iterations', []).append(self.trn_iterations)\n",
        "\n",
        "        for k, v in logs.items():\n",
        "            self.history.setdefault(k, []).append(v)\n",
        "        \n",
        "        K.set_value(self.model.optimizer.lr, self.clr())"
      ],
      "execution_count": 0,
      "outputs": []
    }
  ]
}